{
 "cells": [
  {
   "cell_type": "markdown",
   "metadata": {},
   "source": [
    "**Run the following two cells before you begin.**"
   ]
  },
  {
   "cell_type": "code",
   "execution_count": 1,
   "metadata": {},
   "outputs": [
    {
     "data": {
      "application/javascript": [
       "IPython.notebook.set_autosave_interval(10000)"
      ]
     },
     "metadata": {},
     "output_type": "display_data"
    },
    {
     "name": "stdout",
     "output_type": "stream",
     "text": [
      "Autosaving every 10 seconds\n"
     ]
    }
   ],
   "source": [
    "%autosave 10"
   ]
  },
  {
   "cell_type": "code",
   "execution_count": 3,
   "metadata": {},
   "outputs": [],
   "source": [
    "import pandas as pd\n",
    "import numpy as np\n",
    "import matplotlib.pyplot as plt\n",
    "\n",
    "%matplotlib inline\n",
    "\n",
    "df = pd.read_csv('/Users/priyanshutuli/Downloads/Project-Data-Set-Repository-master/Dataset/cleaned_data.csv')"
   ]
  },
  {
   "cell_type": "markdown",
   "metadata": {},
   "source": [
    "**Run the following 3 cells to create a list of features, create a train/test split, and instantiate a random forest classifier.**"
   ]
  },
  {
   "cell_type": "code",
   "execution_count": 4,
   "metadata": {},
   "outputs": [
    {
     "data": {
      "text/plain": [
       "['LIMIT_BAL',\n",
       " 'EDUCATION',\n",
       " 'MARRIAGE',\n",
       " 'AGE',\n",
       " 'PAY_1',\n",
       " 'BILL_AMT1',\n",
       " 'BILL_AMT2',\n",
       " 'BILL_AMT3',\n",
       " 'BILL_AMT4',\n",
       " 'BILL_AMT5',\n",
       " 'BILL_AMT6',\n",
       " 'PAY_AMT1',\n",
       " 'PAY_AMT2',\n",
       " 'PAY_AMT3',\n",
       " 'PAY_AMT4',\n",
       " 'PAY_AMT5',\n",
       " 'PAY_AMT6',\n",
       " 'default payment next month']"
      ]
     },
     "execution_count": 4,
     "metadata": {},
     "output_type": "execute_result"
    }
   ],
   "source": [
    "features_response = df.columns.tolist()\n",
    "items_to_remove = ['ID', 'SEX', 'PAY_2', 'PAY_3', 'PAY_4', 'PAY_5', 'PAY_6',\n",
    "                   'EDUCATION_CAT', 'graduate school', 'high school', 'none',\n",
    "                   'others', 'university']\n",
    "features_response = [item for item in features_response if item not in items_to_remove]\n",
    "features_response"
   ]
  },
  {
   "cell_type": "code",
   "execution_count": 5,
   "metadata": {},
   "outputs": [],
   "source": [
    "from sklearn.model_selection import train_test_split\n",
    "\n",
    "X_train, X_test, y_train, y_test = train_test_split(\n",
    "    df[features_response[:-1]].values,\n",
    "    df['default payment next month'].values,\n",
    "    test_size=0.2, random_state=24\n",
    ")"
   ]
  },
  {
   "cell_type": "code",
   "execution_count": 6,
   "metadata": {},
   "outputs": [],
   "source": [
    "from sklearn.ensemble import RandomForestClassifier\n",
    "\n",
    "rf = RandomForestClassifier(\n",
    "    n_estimators=10, criterion='gini', max_depth=3,\n",
    "    min_samples_split=2, min_samples_leaf=1, min_weight_fraction_leaf=0.0,\n",
    "    max_features='auto', max_leaf_nodes=None, min_impurity_decrease=0.0,\n",
    "    min_impurity_split=None, bootstrap=True, oob_score=False, n_jobs=None,\n",
    "    random_state=4, verbose=0, warm_start=False, class_weight=None\n",
    ")"
   ]
  },
  {
   "cell_type": "markdown",
   "metadata": {},
   "source": [
    "**Create a dictionary representing the grid for the `max_depth` and `n_estimators` hyperparameters that will be searched. Include depths of 3, 6, 9, and 12, and 10, 50, 100, and 200 trees.**"
   ]
  },
  {
   "cell_type": "code",
   "execution_count": 20,
   "metadata": {},
   "outputs": [],
   "source": [
    "hyperparameters = {'max_depth':[3,6,9,12], 'n_estimators':[10,50,100,200]}"
   ]
  },
  {
   "cell_type": "markdown",
   "metadata": {},
   "source": [
    "________________________________________________________________\n",
    "**Instantiate a `GridSearchCV` object using the same options that we have previously in this course, but with the dictionary of hyperparameters created above. Set `verbose=2` to see the output for each fit performed.**"
   ]
  },
  {
   "cell_type": "code",
   "execution_count": 21,
   "metadata": {},
   "outputs": [],
   "source": [
    "from sklearn.model_selection import GridSearchCV"
   ]
  },
  {
   "cell_type": "code",
   "execution_count": 24,
   "metadata": {},
   "outputs": [],
   "source": [
    "clf = GridSearchCV(estimator = rf, param_grid = hyperparameters,verbose = 2)"
   ]
  },
  {
   "cell_type": "markdown",
   "metadata": {},
   "source": [
    "____________________________________________________\n",
    "**Fit the `GridSearchCV` object on the training data.**"
   ]
  },
  {
   "cell_type": "code",
   "execution_count": 25,
   "metadata": {},
   "outputs": [
    {
     "name": "stdout",
     "output_type": "stream",
     "text": [
      "Fitting 5 folds for each of 16 candidates, totalling 80 fits\n",
      "[CV] max_depth=3, n_estimators=10 ....................................\n",
      "[CV] ..................... max_depth=3, n_estimators=10, total=   0.2s\n",
      "[CV] max_depth=3, n_estimators=10 ....................................\n"
     ]
    },
    {
     "name": "stderr",
     "output_type": "stream",
     "text": [
      "[Parallel(n_jobs=1)]: Using backend SequentialBackend with 1 concurrent workers.\n",
      "[Parallel(n_jobs=1)]: Done   1 out of   1 | elapsed:    0.2s remaining:    0.0s\n"
     ]
    },
    {
     "name": "stdout",
     "output_type": "stream",
     "text": [
      "[CV] ..................... max_depth=3, n_estimators=10, total=   0.2s\n",
      "[CV] max_depth=3, n_estimators=10 ....................................\n",
      "[CV] ..................... max_depth=3, n_estimators=10, total=   0.1s\n",
      "[CV] max_depth=3, n_estimators=10 ....................................\n",
      "[CV] ..................... max_depth=3, n_estimators=10, total=   0.1s\n",
      "[CV] max_depth=3, n_estimators=10 ....................................\n",
      "[CV] ..................... max_depth=3, n_estimators=10, total=   0.1s\n",
      "[CV] max_depth=3, n_estimators=50 ....................................\n",
      "[CV] ..................... max_depth=3, n_estimators=50, total=   0.7s\n",
      "[CV] max_depth=3, n_estimators=50 ....................................\n",
      "[CV] ..................... max_depth=3, n_estimators=50, total=   0.7s\n",
      "[CV] max_depth=3, n_estimators=50 ....................................\n",
      "[CV] ..................... max_depth=3, n_estimators=50, total=   0.7s\n",
      "[CV] max_depth=3, n_estimators=50 ....................................\n",
      "[CV] ..................... max_depth=3, n_estimators=50, total=   0.9s\n",
      "[CV] max_depth=3, n_estimators=50 ....................................\n",
      "[CV] ..................... max_depth=3, n_estimators=50, total=   0.8s\n",
      "[CV] max_depth=3, n_estimators=100 ...................................\n",
      "[CV] .................... max_depth=3, n_estimators=100, total=   1.7s\n",
      "[CV] max_depth=3, n_estimators=100 ...................................\n",
      "[CV] .................... max_depth=3, n_estimators=100, total=   1.4s\n",
      "[CV] max_depth=3, n_estimators=100 ...................................\n",
      "[CV] .................... max_depth=3, n_estimators=100, total=   1.4s\n",
      "[CV] max_depth=3, n_estimators=100 ...................................\n",
      "[CV] .................... max_depth=3, n_estimators=100, total=   1.3s\n",
      "[CV] max_depth=3, n_estimators=100 ...................................\n",
      "[CV] .................... max_depth=3, n_estimators=100, total=   1.4s\n",
      "[CV] max_depth=3, n_estimators=200 ...................................\n",
      "[CV] .................... max_depth=3, n_estimators=200, total=   3.2s\n",
      "[CV] max_depth=3, n_estimators=200 ...................................\n",
      "[CV] .................... max_depth=3, n_estimators=200, total=   4.2s\n",
      "[CV] max_depth=3, n_estimators=200 ...................................\n",
      "[CV] .................... max_depth=3, n_estimators=200, total=   6.2s\n",
      "[CV] max_depth=3, n_estimators=200 ...................................\n",
      "[CV] .................... max_depth=3, n_estimators=200, total=   6.4s\n",
      "[CV] max_depth=3, n_estimators=200 ...................................\n",
      "[CV] .................... max_depth=3, n_estimators=200, total=   3.3s\n",
      "[CV] max_depth=6, n_estimators=10 ....................................\n",
      "[CV] ..................... max_depth=6, n_estimators=10, total=   0.3s\n",
      "[CV] max_depth=6, n_estimators=10 ....................................\n",
      "[CV] ..................... max_depth=6, n_estimators=10, total=   0.3s\n",
      "[CV] max_depth=6, n_estimators=10 ....................................\n",
      "[CV] ..................... max_depth=6, n_estimators=10, total=   0.3s\n",
      "[CV] max_depth=6, n_estimators=10 ....................................\n",
      "[CV] ..................... max_depth=6, n_estimators=10, total=   0.3s\n",
      "[CV] max_depth=6, n_estimators=10 ....................................\n",
      "[CV] ..................... max_depth=6, n_estimators=10, total=   0.3s\n",
      "[CV] max_depth=6, n_estimators=50 ....................................\n",
      "[CV] ..................... max_depth=6, n_estimators=50, total=   1.3s\n",
      "[CV] max_depth=6, n_estimators=50 ....................................\n",
      "[CV] ..................... max_depth=6, n_estimators=50, total=   1.4s\n",
      "[CV] max_depth=6, n_estimators=50 ....................................\n",
      "[CV] ..................... max_depth=6, n_estimators=50, total=   1.3s\n",
      "[CV] max_depth=6, n_estimators=50 ....................................\n",
      "[CV] ..................... max_depth=6, n_estimators=50, total=   1.6s\n",
      "[CV] max_depth=6, n_estimators=50 ....................................\n",
      "[CV] ..................... max_depth=6, n_estimators=50, total=   2.6s\n",
      "[CV] max_depth=6, n_estimators=100 ...................................\n",
      "[CV] .................... max_depth=6, n_estimators=100, total=   4.5s\n",
      "[CV] max_depth=6, n_estimators=100 ...................................\n",
      "[CV] .................... max_depth=6, n_estimators=100, total=   3.6s\n",
      "[CV] max_depth=6, n_estimators=100 ...................................\n",
      "[CV] .................... max_depth=6, n_estimators=100, total=   4.0s\n",
      "[CV] max_depth=6, n_estimators=100 ...................................\n",
      "[CV] .................... max_depth=6, n_estimators=100, total=   4.3s\n",
      "[CV] max_depth=6, n_estimators=100 ...................................\n",
      "[CV] .................... max_depth=6, n_estimators=100, total=   2.8s\n",
      "[CV] max_depth=6, n_estimators=200 ...................................\n",
      "[CV] .................... max_depth=6, n_estimators=200, total=   7.7s\n",
      "[CV] max_depth=6, n_estimators=200 ...................................\n",
      "[CV] .................... max_depth=6, n_estimators=200, total=   8.2s\n",
      "[CV] max_depth=6, n_estimators=200 ...................................\n",
      "[CV] .................... max_depth=6, n_estimators=200, total=   6.9s\n",
      "[CV] max_depth=6, n_estimators=200 ...................................\n",
      "[CV] .................... max_depth=6, n_estimators=200, total=   5.7s\n",
      "[CV] max_depth=6, n_estimators=200 ...................................\n",
      "[CV] .................... max_depth=6, n_estimators=200, total=   5.1s\n",
      "[CV] max_depth=9, n_estimators=10 ....................................\n",
      "[CV] ..................... max_depth=9, n_estimators=10, total=   0.5s\n",
      "[CV] max_depth=9, n_estimators=10 ....................................\n",
      "[CV] ..................... max_depth=9, n_estimators=10, total=   0.6s\n",
      "[CV] max_depth=9, n_estimators=10 ....................................\n",
      "[CV] ..................... max_depth=9, n_estimators=10, total=   0.8s\n",
      "[CV] max_depth=9, n_estimators=10 ....................................\n",
      "[CV] ..................... max_depth=9, n_estimators=10, total=   0.6s\n",
      "[CV] max_depth=9, n_estimators=10 ....................................\n",
      "[CV] ..................... max_depth=9, n_estimators=10, total=   0.4s\n",
      "[CV] max_depth=9, n_estimators=50 ....................................\n",
      "[CV] ..................... max_depth=9, n_estimators=50, total=   2.6s\n",
      "[CV] max_depth=9, n_estimators=50 ....................................\n",
      "[CV] ..................... max_depth=9, n_estimators=50, total=   2.8s\n",
      "[CV] max_depth=9, n_estimators=50 ....................................\n",
      "[CV] ..................... max_depth=9, n_estimators=50, total=   2.6s\n",
      "[CV] max_depth=9, n_estimators=50 ....................................\n",
      "[CV] ..................... max_depth=9, n_estimators=50, total=   1.9s\n",
      "[CV] max_depth=9, n_estimators=50 ....................................\n",
      "[CV] ..................... max_depth=9, n_estimators=50, total=   1.8s\n",
      "[CV] max_depth=9, n_estimators=100 ...................................\n",
      "[CV] .................... max_depth=9, n_estimators=100, total=   3.8s\n",
      "[CV] max_depth=9, n_estimators=100 ...................................\n",
      "[CV] .................... max_depth=9, n_estimators=100, total=   3.9s\n",
      "[CV] max_depth=9, n_estimators=100 ...................................\n",
      "[CV] .................... max_depth=9, n_estimators=100, total=   4.5s\n",
      "[CV] max_depth=9, n_estimators=100 ...................................\n",
      "[CV] .................... max_depth=9, n_estimators=100, total=   4.1s\n",
      "[CV] max_depth=9, n_estimators=100 ...................................\n",
      "[CV] .................... max_depth=9, n_estimators=100, total=   3.6s\n",
      "[CV] max_depth=9, n_estimators=200 ...................................\n",
      "[CV] .................... max_depth=9, n_estimators=200, total=   7.3s\n",
      "[CV] max_depth=9, n_estimators=200 ...................................\n",
      "[CV] .................... max_depth=9, n_estimators=200, total=   7.2s\n",
      "[CV] max_depth=9, n_estimators=200 ...................................\n",
      "[CV] .................... max_depth=9, n_estimators=200, total=   7.3s\n",
      "[CV] max_depth=9, n_estimators=200 ...................................\n",
      "[CV] .................... max_depth=9, n_estimators=200, total=   7.3s\n",
      "[CV] max_depth=9, n_estimators=200 ...................................\n"
     ]
    },
    {
     "name": "stdout",
     "output_type": "stream",
     "text": [
      "[CV] .................... max_depth=9, n_estimators=200, total=   7.3s\n",
      "[CV] max_depth=12, n_estimators=10 ...................................\n",
      "[CV] .................... max_depth=12, n_estimators=10, total=   0.5s\n",
      "[CV] max_depth=12, n_estimators=10 ...................................\n",
      "[CV] .................... max_depth=12, n_estimators=10, total=   0.5s\n",
      "[CV] max_depth=12, n_estimators=10 ...................................\n",
      "[CV] .................... max_depth=12, n_estimators=10, total=   0.4s\n",
      "[CV] max_depth=12, n_estimators=10 ...................................\n",
      "[CV] .................... max_depth=12, n_estimators=10, total=   0.4s\n",
      "[CV] max_depth=12, n_estimators=10 ...................................\n",
      "[CV] .................... max_depth=12, n_estimators=10, total=   0.4s\n",
      "[CV] max_depth=12, n_estimators=50 ...................................\n",
      "[CV] .................... max_depth=12, n_estimators=50, total=   2.2s\n",
      "[CV] max_depth=12, n_estimators=50 ...................................\n",
      "[CV] .................... max_depth=12, n_estimators=50, total=   2.2s\n",
      "[CV] max_depth=12, n_estimators=50 ...................................\n",
      "[CV] .................... max_depth=12, n_estimators=50, total=   2.3s\n",
      "[CV] max_depth=12, n_estimators=50 ...................................\n",
      "[CV] .................... max_depth=12, n_estimators=50, total=   2.4s\n",
      "[CV] max_depth=12, n_estimators=50 ...................................\n",
      "[CV] .................... max_depth=12, n_estimators=50, total=   2.3s\n",
      "[CV] max_depth=12, n_estimators=100 ..................................\n",
      "[CV] ................... max_depth=12, n_estimators=100, total=   4.5s\n",
      "[CV] max_depth=12, n_estimators=100 ..................................\n",
      "[CV] ................... max_depth=12, n_estimators=100, total=   4.6s\n",
      "[CV] max_depth=12, n_estimators=100 ..................................\n",
      "[CV] ................... max_depth=12, n_estimators=100, total=   4.4s\n",
      "[CV] max_depth=12, n_estimators=100 ..................................\n",
      "[CV] ................... max_depth=12, n_estimators=100, total=   4.4s\n",
      "[CV] max_depth=12, n_estimators=100 ..................................\n",
      "[CV] ................... max_depth=12, n_estimators=100, total=   4.6s\n",
      "[CV] max_depth=12, n_estimators=200 ..................................\n",
      "[CV] ................... max_depth=12, n_estimators=200, total=   8.7s\n",
      "[CV] max_depth=12, n_estimators=200 ..................................\n",
      "[CV] ................... max_depth=12, n_estimators=200, total=   9.1s\n",
      "[CV] max_depth=12, n_estimators=200 ..................................\n",
      "[CV] ................... max_depth=12, n_estimators=200, total=   9.5s\n",
      "[CV] max_depth=12, n_estimators=200 ..................................\n",
      "[CV] ................... max_depth=12, n_estimators=200, total=   9.0s\n",
      "[CV] max_depth=12, n_estimators=200 ..................................\n",
      "[CV] ................... max_depth=12, n_estimators=200, total=   8.7s\n"
     ]
    },
    {
     "name": "stderr",
     "output_type": "stream",
     "text": [
      "[Parallel(n_jobs=1)]: Done  80 out of  80 | elapsed:  4.2min finished\n"
     ]
    },
    {
     "data": {
      "text/plain": [
       "GridSearchCV(estimator=RandomForestClassifier(max_depth=3, n_estimators=10,\n",
       "                                              random_state=4),\n",
       "             param_grid={'max_depth': [3, 6, 9, 12],\n",
       "                         'n_estimators': [10, 50, 100, 200]},\n",
       "             verbose=2)"
      ]
     },
     "execution_count": 25,
     "metadata": {},
     "output_type": "execute_result"
    }
   ],
   "source": [
    "clf.fit(X_train, y_train)"
   ]
  },
  {
   "cell_type": "markdown",
   "metadata": {},
   "source": [
    "___________________________________________________________\n",
    "**Put the results of the grid search in a pandas DataFrame.**"
   ]
  },
  {
   "cell_type": "code",
   "execution_count": 28,
   "metadata": {
    "scrolled": true
   },
   "outputs": [],
   "source": [
    "results_df = pd.DataFrame(clf.cv_results_)"
   ]
  },
  {
   "cell_type": "code",
   "execution_count": 37,
   "metadata": {},
   "outputs": [
    {
     "data": {
      "text/html": [
       "<div>\n",
       "<style scoped>\n",
       "    .dataframe tbody tr th:only-of-type {\n",
       "        vertical-align: middle;\n",
       "    }\n",
       "\n",
       "    .dataframe tbody tr th {\n",
       "        vertical-align: top;\n",
       "    }\n",
       "\n",
       "    .dataframe thead th {\n",
       "        text-align: right;\n",
       "    }\n",
       "</style>\n",
       "<table border=\"1\" class=\"dataframe\">\n",
       "  <thead>\n",
       "    <tr style=\"text-align: right;\">\n",
       "      <th></th>\n",
       "      <th>mean_fit_time</th>\n",
       "      <th>std_fit_time</th>\n",
       "      <th>mean_score_time</th>\n",
       "      <th>std_score_time</th>\n",
       "      <th>param_max_depth</th>\n",
       "      <th>param_n_estimators</th>\n",
       "      <th>params</th>\n",
       "      <th>split0_test_score</th>\n",
       "      <th>split1_test_score</th>\n",
       "      <th>split2_test_score</th>\n",
       "      <th>split3_test_score</th>\n",
       "      <th>split4_test_score</th>\n",
       "      <th>mean_test_score</th>\n",
       "      <th>std_test_score</th>\n",
       "      <th>rank_test_score</th>\n",
       "    </tr>\n",
       "  </thead>\n",
       "  <tbody>\n",
       "    <tr>\n",
       "      <th>0</th>\n",
       "      <td>0.143026</td>\n",
       "      <td>0.005107</td>\n",
       "      <td>0.004843</td>\n",
       "      <td>0.000133</td>\n",
       "      <td>3</td>\n",
       "      <td>10</td>\n",
       "      <td>{'max_depth': 3, 'n_estimators': 10}</td>\n",
       "      <td>0.814390</td>\n",
       "      <td>0.819269</td>\n",
       "      <td>0.816925</td>\n",
       "      <td>0.824426</td>\n",
       "      <td>0.815284</td>\n",
       "      <td>0.818058</td>\n",
       "      <td>0.003590</td>\n",
       "      <td>11</td>\n",
       "    </tr>\n",
       "    <tr>\n",
       "      <th>1</th>\n",
       "      <td>0.746575</td>\n",
       "      <td>0.086603</td>\n",
       "      <td>0.020591</td>\n",
       "      <td>0.002421</td>\n",
       "      <td>3</td>\n",
       "      <td>50</td>\n",
       "      <td>{'max_depth': 3, 'n_estimators': 50}</td>\n",
       "      <td>0.812046</td>\n",
       "      <td>0.815284</td>\n",
       "      <td>0.814346</td>\n",
       "      <td>0.820206</td>\n",
       "      <td>0.813408</td>\n",
       "      <td>0.815058</td>\n",
       "      <td>0.002788</td>\n",
       "      <td>15</td>\n",
       "    </tr>\n",
       "    <tr>\n",
       "      <th>2</th>\n",
       "      <td>1.413280</td>\n",
       "      <td>0.138769</td>\n",
       "      <td>0.037037</td>\n",
       "      <td>0.001859</td>\n",
       "      <td>3</td>\n",
       "      <td>100</td>\n",
       "      <td>{'max_depth': 3, 'n_estimators': 100}</td>\n",
       "      <td>0.810640</td>\n",
       "      <td>0.812705</td>\n",
       "      <td>0.813408</td>\n",
       "      <td>0.820441</td>\n",
       "      <td>0.810830</td>\n",
       "      <td>0.813605</td>\n",
       "      <td>0.003580</td>\n",
       "      <td>16</td>\n",
       "    </tr>\n",
       "    <tr>\n",
       "      <th>3</th>\n",
       "      <td>4.541028</td>\n",
       "      <td>1.356640</td>\n",
       "      <td>0.108038</td>\n",
       "      <td>0.042273</td>\n",
       "      <td>3</td>\n",
       "      <td>200</td>\n",
       "      <td>{'max_depth': 3, 'n_estimators': 200}</td>\n",
       "      <td>0.811577</td>\n",
       "      <td>0.815518</td>\n",
       "      <td>0.814346</td>\n",
       "      <td>0.821378</td>\n",
       "      <td>0.813408</td>\n",
       "      <td>0.815246</td>\n",
       "      <td>0.003326</td>\n",
       "      <td>14</td>\n",
       "    </tr>\n",
       "    <tr>\n",
       "      <th>4</th>\n",
       "      <td>0.264008</td>\n",
       "      <td>0.004454</td>\n",
       "      <td>0.006363</td>\n",
       "      <td>0.000830</td>\n",
       "      <td>6</td>\n",
       "      <td>10</td>\n",
       "      <td>{'max_depth': 6, 'n_estimators': 10}</td>\n",
       "      <td>0.814390</td>\n",
       "      <td>0.818565</td>\n",
       "      <td>0.819972</td>\n",
       "      <td>0.826301</td>\n",
       "      <td>0.819503</td>\n",
       "      <td>0.819746</td>\n",
       "      <td>0.003825</td>\n",
       "      <td>10</td>\n",
       "    </tr>\n",
       "  </tbody>\n",
       "</table>\n",
       "</div>"
      ],
      "text/plain": [
       "   mean_fit_time  std_fit_time  mean_score_time  std_score_time  \\\n",
       "0       0.143026      0.005107         0.004843        0.000133   \n",
       "1       0.746575      0.086603         0.020591        0.002421   \n",
       "2       1.413280      0.138769         0.037037        0.001859   \n",
       "3       4.541028      1.356640         0.108038        0.042273   \n",
       "4       0.264008      0.004454         0.006363        0.000830   \n",
       "\n",
       "  param_max_depth param_n_estimators                                 params  \\\n",
       "0               3                 10   {'max_depth': 3, 'n_estimators': 10}   \n",
       "1               3                 50   {'max_depth': 3, 'n_estimators': 50}   \n",
       "2               3                100  {'max_depth': 3, 'n_estimators': 100}   \n",
       "3               3                200  {'max_depth': 3, 'n_estimators': 200}   \n",
       "4               6                 10   {'max_depth': 6, 'n_estimators': 10}   \n",
       "\n",
       "   split0_test_score  split1_test_score  split2_test_score  split3_test_score  \\\n",
       "0           0.814390           0.819269           0.816925           0.824426   \n",
       "1           0.812046           0.815284           0.814346           0.820206   \n",
       "2           0.810640           0.812705           0.813408           0.820441   \n",
       "3           0.811577           0.815518           0.814346           0.821378   \n",
       "4           0.814390           0.818565           0.819972           0.826301   \n",
       "\n",
       "   split4_test_score  mean_test_score  std_test_score  rank_test_score  \n",
       "0           0.815284         0.818058        0.003590               11  \n",
       "1           0.813408         0.815058        0.002788               15  \n",
       "2           0.810830         0.813605        0.003580               16  \n",
       "3           0.813408         0.815246        0.003326               14  \n",
       "4           0.819503         0.819746        0.003825               10  "
      ]
     },
     "execution_count": 37,
     "metadata": {},
     "output_type": "execute_result"
    }
   ],
   "source": [
    "results_df.head()"
   ]
  },
  {
   "cell_type": "markdown",
   "metadata": {},
   "source": [
    "**Find the best hyperparameters from the cross-validation.**"
   ]
  },
  {
   "cell_type": "code",
   "execution_count": 31,
   "metadata": {},
   "outputs": [
    {
     "data": {
      "text/plain": [
       "{'max_depth': 12, 'n_estimators': 200}"
      ]
     },
     "execution_count": 31,
     "metadata": {},
     "output_type": "execute_result"
    }
   ],
   "source": [
    "clf.best_params_"
   ]
  },
  {
   "cell_type": "markdown",
   "metadata": {},
   "source": [
    "________________________________________________________________________________________________________\n",
    "**Create a `pcolormesh` visualization of the mean testing score for each combination of hyperparameters.**\n",
    "\n",
    "<details>\n",
    "    <summary>Hint:</summary>\n",
    "    Remember to reshape the values of the mean testing scores to be a two-dimensional 4x4 grid.\n",
    "</details>"
   ]
  },
  {
   "cell_type": "code",
   "execution_count": 35,
   "metadata": {},
   "outputs": [],
   "source": [
    "# Create a 5x5 grid\n",
    "xx,yy = np.meshgrid(hyperparameters['max_depth'],hyperparameters['n_estimators'])"
   ]
  },
  {
   "cell_type": "code",
   "execution_count": 36,
   "metadata": {},
   "outputs": [
    {
     "name": "stdout",
     "output_type": "stream",
     "text": [
      "[[ 3  6  9 12]\n",
      " [ 3  6  9 12]\n",
      " [ 3  6  9 12]\n",
      " [ 3  6  9 12]]\n",
      "[[ 10  10  10  10]\n",
      " [ 50  50  50  50]\n",
      " [100 100 100 100]\n",
      " [200 200 200 200]]\n"
     ]
    }
   ],
   "source": [
    "print(xx)\n",
    "print(yy)"
   ]
  },
  {
   "cell_type": "code",
   "execution_count": 40,
   "metadata": {},
   "outputs": [],
   "source": [
    "zz = np.array(results_df.mean_test_score).reshape(4,4)"
   ]
  },
  {
   "cell_type": "code",
   "execution_count": 43,
   "metadata": {},
   "outputs": [
    {
     "name": "stderr",
     "output_type": "stream",
     "text": [
      "/Users/priyanshutuli/anaconda3/lib/python3.7/site-packages/ipykernel_launcher.py:3: MatplotlibDeprecationWarning: shading='flat' when X and Y have the same dimensions as C is deprecated since 3.3.  Either specify the corners of the quadrilaterals with X and Y, or pass shading='auto', 'nearest' or 'gouraud', or set rcParams['pcolor.shading'].  This will become an error two minor releases later.\n",
      "  This is separate from the ipykernel package so we can avoid doing imports until\n"
     ]
    },
    {
     "data": {
      "text/plain": [
       "Text(0, 0.5, 'N Estimators')"
      ]
     },
     "execution_count": 43,
     "metadata": {},
     "output_type": "execute_result"
    },
    {
     "data": {
      "image/png": "[encoded data removed]",
      "text/plain": [
       "<Figure size 432x288 with 2 Axes>"
      ]
     },
     "metadata": {
      "needs_background": "light"
     },
     "output_type": "display_data"
    }
   ],
   "source": [
    "# Set color map to `plt.cm.jet`\n",
    "ax = plt.axes()\n",
    "pcolor_ex = ax.pcolormesh(xx, yy, zz, cmap=plt.cm.jet)\n",
    "plt.colorbar(pcolor_ex, label='Color scale')\n",
    "ax.set_xlabel('Max Depth')\n",
    "ax.set_ylabel('N Estimators')"
   ]
  },
  {
   "cell_type": "code",
   "execution_count": null,
   "metadata": {
    "eid": "f0c62"
   },
   "outputs": [],
   "source": [
    "# Visualize pcolormesh\n"
   ]
  },
  {
   "cell_type": "markdown",
   "metadata": {},
   "source": [
    "________________________________________________________________________________________________________\n",
    "**Conclude which set of hyperparameters to use.**"
   ]
  },
  {
   "cell_type": "code",
   "execution_count": 45,
   "metadata": {},
   "outputs": [],
   "source": [
    "# Create a dataframe of the feature names and importance\n",
    "feat_imp_df = pd.DataFrame({\n",
    "    'Feature name':features_response[:-1],\n",
    "    'Importance':clf.best_estimator_.feature_importances_\n",
    "})"
   ]
  },
  {
   "cell_type": "code",
   "execution_count": 46,
   "metadata": {},
   "outputs": [
    {
     "data": {
      "text/html": [
       "<div>\n",
       "<style scoped>\n",
       "    .dataframe tbody tr th:only-of-type {\n",
       "        vertical-align: middle;\n",
       "    }\n",
       "\n",
       "    .dataframe tbody tr th {\n",
       "        vertical-align: top;\n",
       "    }\n",
       "\n",
       "    .dataframe thead th {\n",
       "        text-align: right;\n",
       "    }\n",
       "</style>\n",
       "<table border=\"1\" class=\"dataframe\">\n",
       "  <thead>\n",
       "    <tr style=\"text-align: right;\">\n",
       "      <th></th>\n",
       "      <th>Feature name</th>\n",
       "      <th>Importance</th>\n",
       "    </tr>\n",
       "  </thead>\n",
       "  <tbody>\n",
       "    <tr>\n",
       "      <th>4</th>\n",
       "      <td>PAY_1</td>\n",
       "      <td>0.304592</td>\n",
       "    </tr>\n",
       "    <tr>\n",
       "      <th>11</th>\n",
       "      <td>PAY_AMT1</td>\n",
       "      <td>0.060596</td>\n",
       "    </tr>\n",
       "    <tr>\n",
       "      <th>0</th>\n",
       "      <td>LIMIT_BAL</td>\n",
       "      <td>0.059877</td>\n",
       "    </tr>\n",
       "    <tr>\n",
       "      <th>5</th>\n",
       "      <td>BILL_AMT1</td>\n",
       "      <td>0.053973</td>\n",
       "    </tr>\n",
       "    <tr>\n",
       "      <th>6</th>\n",
       "      <td>BILL_AMT2</td>\n",
       "      <td>0.052029</td>\n",
       "    </tr>\n",
       "    <tr>\n",
       "      <th>12</th>\n",
       "      <td>PAY_AMT2</td>\n",
       "      <td>0.051697</td>\n",
       "    </tr>\n",
       "    <tr>\n",
       "      <th>7</th>\n",
       "      <td>BILL_AMT3</td>\n",
       "      <td>0.048639</td>\n",
       "    </tr>\n",
       "    <tr>\n",
       "      <th>13</th>\n",
       "      <td>PAY_AMT3</td>\n",
       "      <td>0.048254</td>\n",
       "    </tr>\n",
       "    <tr>\n",
       "      <th>8</th>\n",
       "      <td>BILL_AMT4</td>\n",
       "      <td>0.046171</td>\n",
       "    </tr>\n",
       "    <tr>\n",
       "      <th>10</th>\n",
       "      <td>BILL_AMT6</td>\n",
       "      <td>0.045718</td>\n",
       "    </tr>\n",
       "    <tr>\n",
       "      <th>9</th>\n",
       "      <td>BILL_AMT5</td>\n",
       "      <td>0.043062</td>\n",
       "    </tr>\n",
       "    <tr>\n",
       "      <th>3</th>\n",
       "      <td>AGE</td>\n",
       "      <td>0.042871</td>\n",
       "    </tr>\n",
       "    <tr>\n",
       "      <th>14</th>\n",
       "      <td>PAY_AMT4</td>\n",
       "      <td>0.042495</td>\n",
       "    </tr>\n",
       "    <tr>\n",
       "      <th>15</th>\n",
       "      <td>PAY_AMT5</td>\n",
       "      <td>0.039981</td>\n",
       "    </tr>\n",
       "    <tr>\n",
       "      <th>16</th>\n",
       "      <td>PAY_AMT6</td>\n",
       "      <td>0.039775</td>\n",
       "    </tr>\n",
       "    <tr>\n",
       "      <th>1</th>\n",
       "      <td>EDUCATION</td>\n",
       "      <td>0.012451</td>\n",
       "    </tr>\n",
       "    <tr>\n",
       "      <th>2</th>\n",
       "      <td>MARRIAGE</td>\n",
       "      <td>0.007819</td>\n",
       "    </tr>\n",
       "  </tbody>\n",
       "</table>\n",
       "</div>"
      ],
      "text/plain": [
       "   Feature name  Importance\n",
       "4         PAY_1    0.304592\n",
       "11     PAY_AMT1    0.060596\n",
       "0     LIMIT_BAL    0.059877\n",
       "5     BILL_AMT1    0.053973\n",
       "6     BILL_AMT2    0.052029\n",
       "12     PAY_AMT2    0.051697\n",
       "7     BILL_AMT3    0.048639\n",
       "13     PAY_AMT3    0.048254\n",
       "8     BILL_AMT4    0.046171\n",
       "10    BILL_AMT6    0.045718\n",
       "9     BILL_AMT5    0.043062\n",
       "3           AGE    0.042871\n",
       "14     PAY_AMT4    0.042495\n",
       "15     PAY_AMT5    0.039981\n",
       "16     PAY_AMT6    0.039775\n",
       "1     EDUCATION    0.012451\n",
       "2      MARRIAGE    0.007819"
      ]
     },
     "execution_count": 46,
     "metadata": {},
     "output_type": "execute_result"
    }
   ],
   "source": [
    "# Sort values by importance\n",
    "feat_imp_df.sort_values('Importance', ascending=False)"
   ]
  }
 ],
 "metadata": {
  "kernelspec": {
   "display_name": "Python 3",
   "language": "python",
   "name": "python3"
  },
  "language_info": {
   "codemirror_mode": {
    "name": "ipython",
    "version": 3
   },
   "file_extension": ".py",
   "mimetype": "text/x-python",
   "name": "python",
   "nbconvert_exporter": "python",
   "pygments_lexer": "ipython3",
   "version": "3.7.5"
  }
 },
 "nbformat": 4,
 "nbformat_minor": 2
}
