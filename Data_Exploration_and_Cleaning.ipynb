{
 "cells": [
  {
   "cell_type": "code",
   "execution_count": 1,
   "metadata": {},
   "outputs": [],
   "source": [
    "import pandas as pd"
   ]
  },
  {
   "cell_type": "code",
   "execution_count": 3,
   "metadata": {},
   "outputs": [],
   "source": [
    "df = pd.read_excel('default_of_credit_card_clients.xls')"
   ]
  },
  {
   "cell_type": "code",
   "execution_count": 4,
   "metadata": {},
   "outputs": [],
   "source": [
    "import numpy as np"
   ]
  },
  {
   "cell_type": "code",
   "execution_count": 5,
   "metadata": {},
   "outputs": [],
   "source": [
    "np.random.seed(seed=24)\n"
   ]
  },
  {
   "cell_type": "code",
   "execution_count": 6,
   "metadata": {},
   "outputs": [],
   "source": [
    "random_integers = np.random.randint(low=1,high=5,size=100)\n"
   ]
  },
  {
   "cell_type": "code",
   "execution_count": 9,
   "metadata": {},
   "outputs": [
    {
     "name": "stdout",
     "output_type": "stream",
     "text": [
      "[3 4 1 4 2 2 2 1 4 4 1 4 4 3 4 4 4 4 4 4 2 3 4 4 2 4 2 4 1 1 3 1 4 2 2 1 4\n",
      " 3 2 2 3 3 2 3 4 2 3 4 1 3 4 2 2 4 1 2 3 3 2 1 2 4 2 1 4 3 1 2 1 3 4 2 3 4\n",
      " 1 3 2 1 1 3 3 4 3 2 4 1 4 4 4 4 1 4 3 2 4 4 3 3 2 4]\n"
     ]
    }
   ],
   "source": [
    "print(random_integers)"
   ]
  },
  {
   "cell_type": "code",
   "execution_count": 7,
   "metadata": {},
   "outputs": [],
   "source": [
    "is_equal_to_3 = random_integers == 3\n"
   ]
  },
  {
   "cell_type": "code",
   "execution_count": 8,
   "metadata": {},
   "outputs": [
    {
     "data": {
      "text/plain": [
       "array([ True, False, False, False, False])"
      ]
     },
     "execution_count": 8,
     "metadata": {},
     "output_type": "execute_result"
    }
   ],
   "source": [
    "is_equal_to_3[:5]\n"
   ]
  },
  {
   "cell_type": "code",
   "execution_count": 10,
   "metadata": {},
   "outputs": [
    {
     "data": {
      "text/plain": [
       "22"
      ]
     },
     "execution_count": 10,
     "metadata": {},
     "output_type": "execute_result"
    }
   ],
   "source": [
    "sum(is_equal_to_3)\n"
   ]
  },
  {
   "cell_type": "code",
   "execution_count": 11,
   "metadata": {},
   "outputs": [
    {
     "data": {
      "text/plain": [
       "array([3, 3, 3, 3, 3, 3, 3, 3, 3, 3, 3, 3, 3, 3, 3, 3, 3, 3, 3, 3, 3, 3])"
      ]
     },
     "execution_count": 11,
     "metadata": {},
     "output_type": "execute_result"
    }
   ],
   "source": [
    "random_integers[is_equal_to_3]\n"
   ]
  },
  {
   "cell_type": "code",
   "execution_count": 17,
   "metadata": {},
   "outputs": [
    {
     "name": "stdout",
     "output_type": "stream",
     "text": [
      "<bound method NDFrame.head of                   ID  LIMIT_BAL  SEX  EDUCATION  MARRIAGE  AGE PAY_1  PAY_2  \\\n",
      "0      798fc410-45c1      20000    2          2         1   24     2      2   \n",
      "1      8a8c8f3b-8eb4     120000    2          2         2   26    -1      2   \n",
      "2      85698822-43f5      90000    2          2         2   34     0      0   \n",
      "3      0737c11b-be42      50000    2          2         1   37     0      0   \n",
      "4      3b7f77cc-dbc0      50000    1          2         1   57    -1      0   \n",
      "...              ...        ...  ...        ...       ...  ...   ...    ...   \n",
      "29995  ecff42d0-bdc6     220000    1          3         1   39     0      0   \n",
      "29996  99d1fa0e-222b     150000    1          3         2   43    -1     -1   \n",
      "29997  95cdd3e7-4f24      30000    1          2         2   37     4      3   \n",
      "29998  00d03f02-04cd      80000    1          3         1   41     1     -1   \n",
      "29999  15d69f9f-5ad3      50000    1          2         1   46     0      0   \n",
      "\n",
      "       PAY_3  PAY_4  ...  BILL_AMT4  BILL_AMT5  BILL_AMT6  PAY_AMT1  PAY_AMT2  \\\n",
      "0         -1     -1  ...          0          0          0         0       689   \n",
      "1          0      0  ...       3272       3455       3261         0      1000   \n",
      "2          0      0  ...      14331      14948      15549      1518      1500   \n",
      "3          0      0  ...      28314      28959      29547      2000      2019   \n",
      "4         -1      0  ...      20940      19146      19131      2000     36681   \n",
      "...      ...    ...  ...        ...        ...        ...       ...       ...   \n",
      "29995      0      0  ...      88004      31237      15980      8500     20000   \n",
      "29996     -1     -1  ...       8979       5190          0      1837      3526   \n",
      "29997      2     -1  ...      20878      20582      19357         0         0   \n",
      "29998      0      0  ...      52774      11855      48944     85900      3409   \n",
      "29999      0      0  ...      36535      32428      15313      2078      1800   \n",
      "\n",
      "       PAY_AMT3  PAY_AMT4  PAY_AMT5  PAY_AMT6  default payment next month  \n",
      "0             0         0         0         0                           1  \n",
      "1          1000      1000         0      2000                           1  \n",
      "2          1000      1000      1000      5000                           0  \n",
      "3          1200      1100      1069      1000                           0  \n",
      "4         10000      9000       689       679                           0  \n",
      "...         ...       ...       ...       ...                         ...  \n",
      "29995      5003      3047      5000      1000                           0  \n",
      "29996      8998       129         0         0                           0  \n",
      "29997     22000      4200      2000      3100                           1  \n",
      "29998      1178      1926     52964      1804                           1  \n",
      "29999      1430      1000      1000      1000                           1  \n",
      "\n",
      "[30000 rows x 25 columns]>\n"
     ]
    }
   ],
   "source": [
    "print(df.head)"
   ]
  },
  {
   "cell_type": "code",
   "execution_count": 18,
   "metadata": {},
   "outputs": [
    {
     "data": {
      "text/plain": [
       "Index(['ID', 'LIMIT_BAL', 'SEX', 'EDUCATION', 'MARRIAGE', 'AGE', 'PAY_1',\n",
       "       'PAY_2', 'PAY_3', 'PAY_4', 'PAY_5', 'PAY_6', 'BILL_AMT1', 'BILL_AMT2',\n",
       "       'BILL_AMT3', 'BILL_AMT4', 'BILL_AMT5', 'BILL_AMT6', 'PAY_AMT1',\n",
       "       'PAY_AMT2', 'PAY_AMT3', 'PAY_AMT4', 'PAY_AMT5', 'PAY_AMT6',\n",
       "       'default payment next month'],\n",
       "      dtype='object')"
      ]
     },
     "execution_count": 18,
     "metadata": {},
     "output_type": "execute_result"
    }
   ],
   "source": [
    "df.columns"
   ]
  },
  {
   "cell_type": "code",
   "execution_count": 19,
   "metadata": {},
   "outputs": [
    {
     "name": "stdout",
     "output_type": "stream",
     "text": [
      "<class 'pandas.core.frame.DataFrame'>\n",
      "RangeIndex: 30000 entries, 0 to 29999\n",
      "Data columns (total 25 columns):\n",
      " #   Column                      Non-Null Count  Dtype \n",
      "---  ------                      --------------  ----- \n",
      " 0   ID                          30000 non-null  object\n",
      " 1   LIMIT_BAL                   30000 non-null  int64 \n",
      " 2   SEX                         30000 non-null  int64 \n",
      " 3   EDUCATION                   30000 non-null  int64 \n",
      " 4   MARRIAGE                    30000 non-null  int64 \n",
      " 5   AGE                         30000 non-null  int64 \n",
      " 6   PAY_1                       30000 non-null  object\n",
      " 7   PAY_2                       30000 non-null  int64 \n",
      " 8   PAY_3                       30000 non-null  int64 \n",
      " 9   PAY_4                       30000 non-null  int64 \n",
      " 10  PAY_5                       30000 non-null  int64 \n",
      " 11  PAY_6                       30000 non-null  int64 \n",
      " 12  BILL_AMT1                   30000 non-null  int64 \n",
      " 13  BILL_AMT2                   30000 non-null  int64 \n",
      " 14  BILL_AMT3                   30000 non-null  int64 \n",
      " 15  BILL_AMT4                   30000 non-null  int64 \n",
      " 16  BILL_AMT5                   30000 non-null  int64 \n",
      " 17  BILL_AMT6                   30000 non-null  int64 \n",
      " 18  PAY_AMT1                    30000 non-null  int64 \n",
      " 19  PAY_AMT2                    30000 non-null  int64 \n",
      " 20  PAY_AMT3                    30000 non-null  int64 \n",
      " 21  PAY_AMT4                    30000 non-null  int64 \n",
      " 22  PAY_AMT5                    30000 non-null  int64 \n",
      " 23  PAY_AMT6                    30000 non-null  int64 \n",
      " 24  default payment next month  30000 non-null  int64 \n",
      "dtypes: int64(23), object(2)\n",
      "memory usage: 5.7+ MB\n"
     ]
    }
   ],
   "source": [
    "df.info()"
   ]
  },
  {
   "cell_type": "code",
   "execution_count": 12,
   "metadata": {},
   "outputs": [
    {
     "data": {
      "text/plain": [
       "b44b81b2-7789    True\n",
       "82da3aa5-97a6    True\n",
       "a3a5c0fc-fdd6    True\n",
       "d50ebd87-8b6d    True\n",
       "bbf202ae-a964    True\n",
       "Name: ID, dtype: bool"
      ]
     },
     "execution_count": 12,
     "metadata": {},
     "output_type": "execute_result"
    }
   ],
   "source": [
    "id_counts = df['ID'].value_counts()\n",
    "dupe_mask = id_counts == 2\n",
    "dupe_mask[0:5]"
   ]
  },
  {
   "cell_type": "code",
   "execution_count": 13,
   "metadata": {},
   "outputs": [
    {
     "name": "stdout",
     "output_type": "stream",
     "text": [
      "b44b81b2-7789    2\n",
      "82da3aa5-97a6    2\n",
      "a3a5c0fc-fdd6    2\n",
      "d50ebd87-8b6d    2\n",
      "bbf202ae-a964    2\n",
      "                ..\n",
      "5aff8134-31a0    1\n",
      "8e239f2b-5493    1\n",
      "f1fe62c6-0840    1\n",
      "dbbd7718-f356    1\n",
      "850cb041-99ba    1\n",
      "Name: ID, Length: 29687, dtype: int64\n"
     ]
    }
   ],
   "source": [
    "print(id_counts)"
   ]
  },
  {
   "cell_type": "code",
   "execution_count": 15,
   "metadata": {},
   "outputs": [
    {
     "data": {
      "text/plain": [
       "313"
      ]
     },
     "execution_count": 15,
     "metadata": {},
     "output_type": "execute_result"
    }
   ],
   "source": [
    "dupe_ids = id_counts.index[dupe_mask]\n",
    "dupe_ids = list(dupe_ids)\n",
    "len(dupe_ids)"
   ]
  },
  {
   "cell_type": "code",
   "execution_count": 16,
   "metadata": {},
   "outputs": [
    {
     "name": "stdout",
     "output_type": "stream",
     "text": [
      "['b44b81b2-7789', '82da3aa5-97a6', 'a3a5c0fc-fdd6', 'd50ebd87-8b6d', 'bbf202ae-a964', 'bae9475e-7cad', '75938fec-e5ec', '0a5048ae-e120', '90330d02-82d9', '1d58344c-5793', 'af9f7f07-e228', '956cbf4a-d24e', 'cdae2be5-8ec4', 'c3ddce11-35e2', '1fb3e3e6-a68d', '9611f432-7f70', 'f11c5e51-a535', '369e565a-26a1', 'accba688-8ec1', 'e8bcb1bb-456e', 'f41bbcf7-5f86', 'fd6033f4-cc72', '5f483bdb-3aaf', '52bcd5ae-72d3', '01355f46-3f0b', '25a28c93-508a', '742d1d93-0d3b', '2458b96d-e8f1', 'b557f3c2-ebec', '7dbc4ebf-4b4f', '994330b6-eeec', '693a0664-bde6', '060c8137-6a4e', '04299d54-61d4', '87dec940-75b7', '129c43ca-42ee', '54ada30b-750f', '7e7a4087-4def', '9e74795e-cb34', 'ca3910f2-92ca', '0a8272b2-78aa', '8b62a9c9-7b64', 'f86688f1-8742', '4e2380e6-a8cf', '0ad143f2-bd95', 'f37328b4-7b3a', '214fc1ca-b25a', '0ab4e6e8-69e5', '27e04c06-487f', '06f377a6-ba7e', 'ad63957b-ea9a', 'effb69b1-d4d8', '1a055566-c187', '0a37c2c7-6065', '9929aa3b-d8f6', 'e77f7765-8731', '45cceda0-6fb7', 'e850d228-6879', '6870544f-459e', 'edd737fd-5b07', 'e668604e-21f6', '05009844-7be8', 'c8bb762f-3ef9', 'f5e3478e-cf68', 'af1e3f79-f628', 'ef889a72-06f5', '3cfed539-ad58', '15edb406-305b', '2618fdc4-e731', 'f63d8fbe-d79e', '379e0b03-4ca0', '3d61e71b-f65e', '63b20368-1a04', '0a2d6db4-0c54', '4ae0efd7-2651', '527c11ea-113e', 'd5905747-8aef', 'e8ee55be-0a11', '71b5009c-75c8', 'ad819541-5d3c', '7be61027-a493', '96970f37-abaa', '3d832783-1571', '9ac5d94f-ed71', 'b6ca3733-7459', '5b8dce34-2ded', 'adeed333-dbfd', '98395d08-9643', '4f95b36b-ab10', '415c344e-309f', 'a9ce8636-9a88', 'a3e05a29-d6df', '77222291-e191', '7b6e060a-97a0', '775d61d0-4715', '62608fd2-d7fb', 'e7cd8c1a-88e9', 'c5368117-b498', '2a8713e6-0f03', '5718f600-12ac', '841ae407-dc4c', '998fa9b2-b341', 'a17f0f1f-d9f6', '89d3cebd-346f', 'c84dd06b-71f5', 'd5aeb496-64e5', '9878723a-0b58', 'feac3745-a2be', '7c9b7473-cc2f', 'f7fe4368-18e7', '91084359-8bd4', '9a75e346-c849', 'dd019fd7-f591', '3511ed92-c434', '2f4f4bc9-fd55', '98b8a2ca-8988', '183f18d5-0b44', 'a7e199e1-2c44', '20b16b21-8b23', 'e4936e97-da48', '91321f74-e4a4', '4534975d-bf92', 'c5a658d0-92da', '4a051fdc-d04c', '7574bf9e-f3f9', '72598524-ef0b', 'ac821a7b-b399', 'd13465a5-a9e0', 'e39d23fe-aa5f', 'b4937915-ad67', 'bbffebbc-e3c4', 'b1c90397-5fb2', 'dab579ee-1645', '2189fc56-f82a', '73ed1381-3a3f', '823267c1-561b', '94d59251-fa7f', '94e1b326-8c22', '69566a6b-6156', '4f249cbc-5e9c', '9d3d2a55-dab6', 'bdb3b33c-83a9', '2a793ecf-05c6', '3884eeca-7714', '8567249b-827e', '6d1fc219-67b0', 'd2a47fa6-0f6a', 'a53a8d32-2c61', '733aa344-0dae', 'fa286931-8ded', '8f4a90bc-bbb0', 'd9dafe9c-b497', 'ae6a7eed-bb58', 'bf23c70b-bf12', '71b26a8d-da70', '61ae560c-4479', '3fd4854f-8752', '5f463f95-a4ae', '16d73782-d5e6', '7d5f3242-e1df', '8a6bbf3d-8a2d', '6353fd55-d66e', '428b26a3-dca2', '42009c72-651f', '30729bb5-55d7', 'd1808f44-48ce', 'c9826d63-f7d3', '659da309-053c', '266c34a2-16c9', 'fc73f07e-eb96', '16ee3668-0b5b', '1bf3b4eb-d759', '80282ca6-96a6', '56126c14-b5b8', 'e07a0034-42af', 'a51dbaae-d88b', '0170086d-7472', '0a2dceda-b597', '315e4f9d-2b0b', 'f0bb9e5a-eb11', '02e41927-a6df', '4653bc48-0141', 'c3ae3600-3837', '5795a795-bfa0', '6ff744d5-91f0', 'c89b26ff-ec7f', 'ad23fe5c-7b09', 'a7559852-f405', '5f38afd8-e138', '40e75290-0f59', '1512a948-a7e4', '297edb0f-3bb1', '0913d642-c5d4', 'b9591d1a-8480', '5f79f818-18af', 'e50d8395-da32', '8f9549b7-d5a4', '0724677e-ec01', 'f9bcd13e-96bc', '0d624cb8-e5f8', '3e60a98c-e520', 'db903e22-a55a', 'f0b963e7-4933', '249b09c0-f4c7', '56945919-0933', '555a25cd-2d05', '382b378c-6383', '68ff6fcd-1d49', 'e3035b40-0c02', '08425e64-bf76', '33bf169b-258a', '5edb4d2b-067c', '31d0095f-75bc', 'f9d25524-9d69', '165206d2-50a5', '3367c92b-b1ca', '7fe414ae-32f8', 'dbf9fb14-2656', '8d1b6de3-9795', '59387843-6db1', '6c0797cd-f663', '4cb27699-fe3f', 'af052d9b-f06b', '86477d4e-795e', 'f20d8a3d-d047', 'ea8d41fd-b8a3', '85bd7f39-2e9b', '7b7cc3cd-0b76', '1c7af562-f271', 'a9d910f4-fe9a', 'f31d1048-5fa9', '20050b52-5d6e', 'ff8b7170-ce3a', 'c361e43d-f1f4', '04c32736-903c', '4dc45e9a-27bd', 'f0723a52-7018', '47d9ee33-0df0', '5deff6b6-62ff', 'cb18af1f-3b53', 'ffa0f012-3bd7', '89f8f447-fca8', '3fddeb07-b7f0', '1b22b0ab-aba3', '9db1809e-845a', '8d3a2576-a958', 'dda76366-a407', '168dcd08-0ed9', '51e5ff58-5a0f', '3393c9e4-3345', 'b3c9d09b-ed59', 'b87bf8f3-d704', '5ce60722-dbd1', '4cf8397f-6359', 'df3d13be-9c13', 'f56a0841-4328', '634d5510-7240', 'e7f574b9-0581', '9c53fb07-9b73', '97d1d2eb-c72f', 'b74033dc-6e45', 'e8037410-5cd0', 'cd944abe-cef9', '84dc097a-dee3', '9389d6e1-e1a7', 'ab09b4b4-8331', '0d66d575-c461', '9e6e766d-ba75', '62b1d551-2414', 'a9870d3e-b4d1', '91c69d1a-8732', '999b7824-373c', 'c69162db-4864', 'ff619017-560f', '37499e8b-ac16', '37a1d9c2-701c', '94d8b70f-361d', '310d5326-56c7', '73baf2c4-6e90', '97f74dea-338e', '64fe3b96-7ed0', '90f662f9-c1e3', '93b2c5f7-acea', '424e8a3c-0377', '3cd5c728-df14', '33b2b726-61a8', '75bdf204-83c2', 'cfa9d026-de0d', '4fcef74d-0b3d', '327d06d5-ce7f', 'ffb9a143-c375', '2a8ad33f-fa9c', '94c4ece8-bba6', '63338f74-01be', 'ddcc7278-7017', 'f6032812-464e', 'f12b9d9e-ada0', '3327c2a8-3402', '83d174e1-5f9a', '28866128-6286', '590a776e-5049', '2ba2d987-103e', '062f1fe4-9a66', 'db91a87c-3cbe', '26d4a6eb-8abe', '73ea498f-44b2', 'ebda7f71-7024', '355fe35a-5db7', 'ff6e1bd3-4e91', 'b46f955f-9e8a', '443324fb-5cfc', '26bde6da-f148', 'd6697da8-74fc']\n"
     ]
    }
   ],
   "source": [
    "print(dupe_ids)"
   ]
  },
  {
   "cell_type": "code",
   "execution_count": 20,
   "metadata": {},
   "outputs": [
    {
     "data": {
      "text/html": [
       "<div>\n",
       "<style scoped>\n",
       "    .dataframe tbody tr th:only-of-type {\n",
       "        vertical-align: middle;\n",
       "    }\n",
       "\n",
       "    .dataframe tbody tr th {\n",
       "        vertical-align: top;\n",
       "    }\n",
       "\n",
       "    .dataframe thead th {\n",
       "        text-align: right;\n",
       "    }\n",
       "</style>\n",
       "<table border=\"1\" class=\"dataframe\">\n",
       "  <thead>\n",
       "    <tr style=\"text-align: right;\">\n",
       "      <th></th>\n",
       "      <th>ID</th>\n",
       "      <th>LIMIT_BAL</th>\n",
       "      <th>SEX</th>\n",
       "      <th>EDUCATION</th>\n",
       "      <th>MARRIAGE</th>\n",
       "      <th>AGE</th>\n",
       "      <th>PAY_1</th>\n",
       "      <th>PAY_2</th>\n",
       "      <th>PAY_3</th>\n",
       "      <th>PAY_4</th>\n",
       "      <th>...</th>\n",
       "      <th>BILL_AMT4</th>\n",
       "      <th>BILL_AMT5</th>\n",
       "      <th>BILL_AMT6</th>\n",
       "      <th>PAY_AMT1</th>\n",
       "      <th>PAY_AMT2</th>\n",
       "      <th>PAY_AMT3</th>\n",
       "      <th>PAY_AMT4</th>\n",
       "      <th>PAY_AMT5</th>\n",
       "      <th>PAY_AMT6</th>\n",
       "      <th>default payment next month</th>\n",
       "    </tr>\n",
       "  </thead>\n",
       "  <tbody>\n",
       "    <tr>\n",
       "      <th>2644</th>\n",
       "      <td>82da3aa5-97a6</td>\n",
       "      <td>170000</td>\n",
       "      <td>2</td>\n",
       "      <td>2</td>\n",
       "      <td>1</td>\n",
       "      <td>49</td>\n",
       "      <td>1</td>\n",
       "      <td>2</td>\n",
       "      <td>0</td>\n",
       "      <td>0</td>\n",
       "      <td>...</td>\n",
       "      <td>145689</td>\n",
       "      <td>33588</td>\n",
       "      <td>0</td>\n",
       "      <td>0</td>\n",
       "      <td>6320</td>\n",
       "      <td>5045</td>\n",
       "      <td>1000</td>\n",
       "      <td>0</td>\n",
       "      <td>0</td>\n",
       "      <td>1</td>\n",
       "    </tr>\n",
       "    <tr>\n",
       "      <th>2744</th>\n",
       "      <td>82da3aa5-97a6</td>\n",
       "      <td>0</td>\n",
       "      <td>0</td>\n",
       "      <td>0</td>\n",
       "      <td>0</td>\n",
       "      <td>0</td>\n",
       "      <td>0</td>\n",
       "      <td>0</td>\n",
       "      <td>0</td>\n",
       "      <td>0</td>\n",
       "      <td>...</td>\n",
       "      <td>0</td>\n",
       "      <td>0</td>\n",
       "      <td>0</td>\n",
       "      <td>0</td>\n",
       "      <td>0</td>\n",
       "      <td>0</td>\n",
       "      <td>0</td>\n",
       "      <td>0</td>\n",
       "      <td>0</td>\n",
       "      <td>0</td>\n",
       "    </tr>\n",
       "    <tr>\n",
       "      <th>14724</th>\n",
       "      <td>a3a5c0fc-fdd6</td>\n",
       "      <td>70000</td>\n",
       "      <td>2</td>\n",
       "      <td>2</td>\n",
       "      <td>2</td>\n",
       "      <td>55</td>\n",
       "      <td>0</td>\n",
       "      <td>0</td>\n",
       "      <td>0</td>\n",
       "      <td>0</td>\n",
       "      <td>...</td>\n",
       "      <td>42946</td>\n",
       "      <td>43843</td>\n",
       "      <td>44714</td>\n",
       "      <td>2230</td>\n",
       "      <td>2004</td>\n",
       "      <td>1537</td>\n",
       "      <td>1589</td>\n",
       "      <td>1598</td>\n",
       "      <td>1654</td>\n",
       "      <td>0</td>\n",
       "    </tr>\n",
       "    <tr>\n",
       "      <th>14824</th>\n",
       "      <td>a3a5c0fc-fdd6</td>\n",
       "      <td>0</td>\n",
       "      <td>0</td>\n",
       "      <td>0</td>\n",
       "      <td>0</td>\n",
       "      <td>0</td>\n",
       "      <td>0</td>\n",
       "      <td>0</td>\n",
       "      <td>0</td>\n",
       "      <td>0</td>\n",
       "      <td>...</td>\n",
       "      <td>0</td>\n",
       "      <td>0</td>\n",
       "      <td>0</td>\n",
       "      <td>0</td>\n",
       "      <td>0</td>\n",
       "      <td>0</td>\n",
       "      <td>0</td>\n",
       "      <td>0</td>\n",
       "      <td>0</td>\n",
       "      <td>0</td>\n",
       "    </tr>\n",
       "    <tr>\n",
       "      <th>27342</th>\n",
       "      <td>b44b81b2-7789</td>\n",
       "      <td>500000</td>\n",
       "      <td>1</td>\n",
       "      <td>1</td>\n",
       "      <td>2</td>\n",
       "      <td>37</td>\n",
       "      <td>0</td>\n",
       "      <td>0</td>\n",
       "      <td>0</td>\n",
       "      <td>0</td>\n",
       "      <td>...</td>\n",
       "      <td>25402</td>\n",
       "      <td>21140</td>\n",
       "      <td>16072</td>\n",
       "      <td>1862</td>\n",
       "      <td>1593</td>\n",
       "      <td>1538</td>\n",
       "      <td>835</td>\n",
       "      <td>451</td>\n",
       "      <td>553</td>\n",
       "      <td>0</td>\n",
       "    </tr>\n",
       "    <tr>\n",
       "      <th>27442</th>\n",
       "      <td>b44b81b2-7789</td>\n",
       "      <td>0</td>\n",
       "      <td>0</td>\n",
       "      <td>0</td>\n",
       "      <td>0</td>\n",
       "      <td>0</td>\n",
       "      <td>0</td>\n",
       "      <td>0</td>\n",
       "      <td>0</td>\n",
       "      <td>0</td>\n",
       "      <td>...</td>\n",
       "      <td>0</td>\n",
       "      <td>0</td>\n",
       "      <td>0</td>\n",
       "      <td>0</td>\n",
       "      <td>0</td>\n",
       "      <td>0</td>\n",
       "      <td>0</td>\n",
       "      <td>0</td>\n",
       "      <td>0</td>\n",
       "      <td>0</td>\n",
       "    </tr>\n",
       "  </tbody>\n",
       "</table>\n",
       "<p>6 rows × 25 columns</p>\n",
       "</div>"
      ],
      "text/plain": [
       "                  ID  LIMIT_BAL  SEX  EDUCATION  MARRIAGE  AGE PAY_1  PAY_2  \\\n",
       "2644   82da3aa5-97a6     170000    2          2         1   49     1      2   \n",
       "2744   82da3aa5-97a6          0    0          0         0    0     0      0   \n",
       "14724  a3a5c0fc-fdd6      70000    2          2         2   55     0      0   \n",
       "14824  a3a5c0fc-fdd6          0    0          0         0    0     0      0   \n",
       "27342  b44b81b2-7789     500000    1          1         2   37     0      0   \n",
       "27442  b44b81b2-7789          0    0          0         0    0     0      0   \n",
       "\n",
       "       PAY_3  PAY_4  ...  BILL_AMT4  BILL_AMT5  BILL_AMT6  PAY_AMT1  PAY_AMT2  \\\n",
       "2644       0      0  ...     145689      33588          0         0      6320   \n",
       "2744       0      0  ...          0          0          0         0         0   \n",
       "14724      0      0  ...      42946      43843      44714      2230      2004   \n",
       "14824      0      0  ...          0          0          0         0         0   \n",
       "27342      0      0  ...      25402      21140      16072      1862      1593   \n",
       "27442      0      0  ...          0          0          0         0         0   \n",
       "\n",
       "       PAY_AMT3  PAY_AMT4  PAY_AMT5  PAY_AMT6  default payment next month  \n",
       "2644       5045      1000         0         0                           1  \n",
       "2744          0         0         0         0                           0  \n",
       "14724      1537      1589      1598      1654                           0  \n",
       "14824         0         0         0         0                           0  \n",
       "27342      1538       835       451       553                           0  \n",
       "27442         0         0         0         0                           0  \n",
       "\n",
       "[6 rows x 25 columns]"
      ]
     },
     "execution_count": 20,
     "metadata": {},
     "output_type": "execute_result"
    }
   ],
   "source": [
    "df.loc[df['ID'].isin(dupe_ids[0:3]),:].head(10) "
   ]
  },
  {
   "cell_type": "code",
   "execution_count": 21,
   "metadata": {},
   "outputs": [],
   "source": [
    "df_zero_mask = df == 0"
   ]
  },
  {
   "cell_type": "code",
   "execution_count": 22,
   "metadata": {},
   "outputs": [
    {
     "data": {
      "text/plain": [
       "315"
      ]
     },
     "execution_count": 22,
     "metadata": {},
     "output_type": "execute_result"
    }
   ],
   "source": [
    "feature_zero_mask = df_zero_mask.iloc[:,1:].all(axis=1)\n",
    "sum(feature_zero_mask)\n"
   ]
  },
  {
   "cell_type": "code",
   "execution_count": 23,
   "metadata": {},
   "outputs": [],
   "source": [
    "df_clean_1 = df.loc[~feature_zero_mask,:].copy()\n"
   ]
  },
  {
   "cell_type": "code",
   "execution_count": 20,
   "metadata": {},
   "outputs": [
    {
     "data": {
      "text/plain": [
       "29685"
      ]
     },
     "execution_count": 20,
     "metadata": {},
     "output_type": "execute_result"
    }
   ],
   "source": [
    "df_clean_1['ID'].nunique()\n"
   ]
  },
  {
   "cell_type": "code",
   "execution_count": 21,
   "metadata": {},
   "outputs": [
    {
     "data": {
      "text/plain": [
       "0    True\n",
       "1    True\n",
       "2    True\n",
       "3    True\n",
       "4    True\n",
       "Name: PAY_1, dtype: bool"
      ]
     },
     "execution_count": 21,
     "metadata": {},
     "output_type": "execute_result"
    }
   ],
   "source": [
    "valid_pay_1_mask = df_clean_1['PAY_1'] != 'Not available'\n",
    "valid_pay_1_mask[0:5]"
   ]
  },
  {
   "cell_type": "code",
   "execution_count": 22,
   "metadata": {},
   "outputs": [],
   "source": [
    "df_clean_2 = df_clean_1.loc[valid_pay_1_mask,:].copy()\n"
   ]
  },
  {
   "cell_type": "code",
   "execution_count": 23,
   "metadata": {},
   "outputs": [
    {
     "name": "stdout",
     "output_type": "stream",
     "text": [
      "<class 'pandas.core.frame.DataFrame'>\n",
      "Int64Index: 26664 entries, 0 to 29999\n",
      "Data columns (total 2 columns):\n",
      "PAY_1    26664 non-null int64\n",
      "PAY_2    26664 non-null int64\n",
      "dtypes: int64(2)\n",
      "memory usage: 624.9 KB\n"
     ]
    }
   ],
   "source": [
    "df_clean_2['PAY_1'] = df_clean_2['PAY_1'].astype('int64')\n",
    "df_clean_2[['PAY_1', 'PAY_2']].info()"
   ]
  },
  {
   "cell_type": "code",
   "execution_count": 24,
   "metadata": {},
   "outputs": [
    {
     "data": {
      "text/plain": [
       "2    12458\n",
       "1     9412\n",
       "3     4380\n",
       "4      414\n",
       "Name: EDUCATION, dtype: int64"
      ]
     },
     "execution_count": 24,
     "metadata": {},
     "output_type": "execute_result"
    }
   ],
   "source": [
    "df_clean_2['EDUCATION'].replace(to_replace=[0, 5, 6], value=4, inplace=True)\n",
    "df_clean_2['EDUCATION'].value_counts()"
   ]
  },
  {
   "cell_type": "code",
   "execution_count": 25,
   "metadata": {},
   "outputs": [
    {
     "data": {
      "text/plain": [
       "2    14158\n",
       "1    12172\n",
       "3      334\n",
       "Name: MARRIAGE, dtype: int64"
      ]
     },
     "execution_count": 25,
     "metadata": {},
     "output_type": "execute_result"
    }
   ],
   "source": [
    "df_clean_2['MARRIAGE'].replace(to_replace=0, value=3, inplace=True)\n",
    "df_clean_2['MARRIAGE'].value_counts()"
   ]
  },
  {
   "cell_type": "code",
   "execution_count": 26,
   "metadata": {},
   "outputs": [],
   "source": [
    "df_clean_2['EDUCATION_CAT'] = 'none'\n"
   ]
  },
  {
   "cell_type": "code",
   "execution_count": 27,
   "metadata": {},
   "outputs": [
    {
     "data": {
      "text/html": [
       "<div>\n",
       "<style scoped>\n",
       "    .dataframe tbody tr th:only-of-type {\n",
       "        vertical-align: middle;\n",
       "    }\n",
       "\n",
       "    .dataframe tbody tr th {\n",
       "        vertical-align: top;\n",
       "    }\n",
       "\n",
       "    .dataframe thead th {\n",
       "        text-align: right;\n",
       "    }\n",
       "</style>\n",
       "<table border=\"1\" class=\"dataframe\">\n",
       "  <thead>\n",
       "    <tr style=\"text-align: right;\">\n",
       "      <th></th>\n",
       "      <th>EDUCATION</th>\n",
       "      <th>EDUCATION_CAT</th>\n",
       "    </tr>\n",
       "  </thead>\n",
       "  <tbody>\n",
       "    <tr>\n",
       "      <td>0</td>\n",
       "      <td>2</td>\n",
       "      <td>none</td>\n",
       "    </tr>\n",
       "    <tr>\n",
       "      <td>1</td>\n",
       "      <td>2</td>\n",
       "      <td>none</td>\n",
       "    </tr>\n",
       "    <tr>\n",
       "      <td>2</td>\n",
       "      <td>2</td>\n",
       "      <td>none</td>\n",
       "    </tr>\n",
       "    <tr>\n",
       "      <td>3</td>\n",
       "      <td>2</td>\n",
       "      <td>none</td>\n",
       "    </tr>\n",
       "    <tr>\n",
       "      <td>4</td>\n",
       "      <td>2</td>\n",
       "      <td>none</td>\n",
       "    </tr>\n",
       "    <tr>\n",
       "      <td>5</td>\n",
       "      <td>1</td>\n",
       "      <td>none</td>\n",
       "    </tr>\n",
       "    <tr>\n",
       "      <td>6</td>\n",
       "      <td>1</td>\n",
       "      <td>none</td>\n",
       "    </tr>\n",
       "    <tr>\n",
       "      <td>7</td>\n",
       "      <td>2</td>\n",
       "      <td>none</td>\n",
       "    </tr>\n",
       "    <tr>\n",
       "      <td>8</td>\n",
       "      <td>3</td>\n",
       "      <td>none</td>\n",
       "    </tr>\n",
       "    <tr>\n",
       "      <td>9</td>\n",
       "      <td>3</td>\n",
       "      <td>none</td>\n",
       "    </tr>\n",
       "  </tbody>\n",
       "</table>\n",
       "</div>"
      ],
      "text/plain": [
       "   EDUCATION EDUCATION_CAT\n",
       "0          2          none\n",
       "1          2          none\n",
       "2          2          none\n",
       "3          2          none\n",
       "4          2          none\n",
       "5          1          none\n",
       "6          1          none\n",
       "7          2          none\n",
       "8          3          none\n",
       "9          3          none"
      ]
     },
     "execution_count": 27,
     "metadata": {},
     "output_type": "execute_result"
    }
   ],
   "source": [
    "df_clean_2[['EDUCATION', 'EDUCATION_CAT']].head(10)\n"
   ]
  },
  {
   "cell_type": "code",
   "execution_count": 28,
   "metadata": {},
   "outputs": [],
   "source": [
    "cat_mapping = {\n",
    "    1: \"graduate school\",\n",
    "    2: \"university\",\n",
    "    3: \"high school\",\n",
    "    4: \"others\"\n",
    "}"
   ]
  },
  {
   "cell_type": "code",
   "execution_count": 29,
   "metadata": {},
   "outputs": [
    {
     "data": {
      "text/html": [
       "<div>\n",
       "<style scoped>\n",
       "    .dataframe tbody tr th:only-of-type {\n",
       "        vertical-align: middle;\n",
       "    }\n",
       "\n",
       "    .dataframe tbody tr th {\n",
       "        vertical-align: top;\n",
       "    }\n",
       "\n",
       "    .dataframe thead th {\n",
       "        text-align: right;\n",
       "    }\n",
       "</style>\n",
       "<table border=\"1\" class=\"dataframe\">\n",
       "  <thead>\n",
       "    <tr style=\"text-align: right;\">\n",
       "      <th></th>\n",
       "      <th>EDUCATION</th>\n",
       "      <th>EDUCATION_CAT</th>\n",
       "    </tr>\n",
       "  </thead>\n",
       "  <tbody>\n",
       "    <tr>\n",
       "      <td>0</td>\n",
       "      <td>2</td>\n",
       "      <td>university</td>\n",
       "    </tr>\n",
       "    <tr>\n",
       "      <td>1</td>\n",
       "      <td>2</td>\n",
       "      <td>university</td>\n",
       "    </tr>\n",
       "    <tr>\n",
       "      <td>2</td>\n",
       "      <td>2</td>\n",
       "      <td>university</td>\n",
       "    </tr>\n",
       "    <tr>\n",
       "      <td>3</td>\n",
       "      <td>2</td>\n",
       "      <td>university</td>\n",
       "    </tr>\n",
       "    <tr>\n",
       "      <td>4</td>\n",
       "      <td>2</td>\n",
       "      <td>university</td>\n",
       "    </tr>\n",
       "    <tr>\n",
       "      <td>5</td>\n",
       "      <td>1</td>\n",
       "      <td>graduate school</td>\n",
       "    </tr>\n",
       "    <tr>\n",
       "      <td>6</td>\n",
       "      <td>1</td>\n",
       "      <td>graduate school</td>\n",
       "    </tr>\n",
       "    <tr>\n",
       "      <td>7</td>\n",
       "      <td>2</td>\n",
       "      <td>university</td>\n",
       "    </tr>\n",
       "    <tr>\n",
       "      <td>8</td>\n",
       "      <td>3</td>\n",
       "      <td>high school</td>\n",
       "    </tr>\n",
       "    <tr>\n",
       "      <td>9</td>\n",
       "      <td>3</td>\n",
       "      <td>high school</td>\n",
       "    </tr>\n",
       "  </tbody>\n",
       "</table>\n",
       "</div>"
      ],
      "text/plain": [
       "   EDUCATION    EDUCATION_CAT\n",
       "0          2       university\n",
       "1          2       university\n",
       "2          2       university\n",
       "3          2       university\n",
       "4          2       university\n",
       "5          1  graduate school\n",
       "6          1  graduate school\n",
       "7          2       university\n",
       "8          3      high school\n",
       "9          3      high school"
      ]
     },
     "execution_count": 29,
     "metadata": {},
     "output_type": "execute_result"
    }
   ],
   "source": [
    "df_clean_2['EDUCATION_CAT'] = df_clean_2['EDUCATION'].map(cat_mapping)\n",
    "df_clean_2[['EDUCATION', 'EDUCATION_CAT']].head(10)"
   ]
  },
  {
   "cell_type": "code",
   "execution_count": 32,
   "metadata": {},
   "outputs": [],
   "source": [
    "edu_ohe = pd.get_dummies(df_clean_2['EDUCATION_CAT'])\n",
    "edu_ohe.head(10)\n",
    "df_with_ohe = pd.concat([df_clean_2, edu_ohe], axis=1)\n",
    "df_with_ohe[['EDUCATION_CAT', 'graduate school',\n",
    "             'high school', 'university', 'others']].head(10)\n",
    "df_with_ohe.to_csv('cleaned_data.csv', index=False)\n"
   ]
  },
  {
   "cell_type": "code",
   "execution_count": null,
   "metadata": {},
   "outputs": [],
   "source": []
  }
 ],
 "metadata": {
  "kernelspec": {
   "display_name": "Python 3",
   "language": "python",
   "name": "python3"
  },
  "language_info": {
   "codemirror_mode": {
    "name": "ipython",
    "version": 3
   },
   "file_extension": ".py",
   "mimetype": "text/x-python",
   "name": "python",
   "nbconvert_exporter": "python",
   "pygments_lexer": "ipython3",
   "version": "3.7.5"
  }
 },
 "nbformat": 4,
 "nbformat_minor": 2
}
